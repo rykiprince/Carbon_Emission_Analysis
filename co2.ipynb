{
 "cells": [
  {
   "cell_type": "code",
   "execution_count": 2,
   "id": "cb22f02a",
   "metadata": {},
   "outputs": [
    {
     "data": {
      "text/html": [
       "<div>\n",
       "<style scoped>\n",
       "    .dataframe tbody tr th:only-of-type {\n",
       "        vertical-align: middle;\n",
       "    }\n",
       "\n",
       "    .dataframe tbody tr th {\n",
       "        vertical-align: top;\n",
       "    }\n",
       "\n",
       "    .dataframe thead th {\n",
       "        text-align: right;\n",
       "    }\n",
       "</style>\n",
       "<table border=\"1\" class=\"dataframe\">\n",
       "  <thead>\n",
       "    <tr style=\"text-align: right;\">\n",
       "      <th></th>\n",
       "      <th>Facility Id</th>\n",
       "      <th>Facility Name</th>\n",
       "      <th>State</th>\n",
       "      <th>Latitude</th>\n",
       "      <th>Longitude</th>\n",
       "      <th>Primary NAICS Code</th>\n",
       "      <th>Industry Type (sectors)</th>\n",
       "      <th>CO2 emissions (non-biogenic)</th>\n",
       "    </tr>\n",
       "  </thead>\n",
       "  <tbody>\n",
       "    <tr>\n",
       "      <th>0</th>\n",
       "      <td>1004377</td>\n",
       "      <td>121 REGIONAL DISPOSAL FACILITY</td>\n",
       "      <td>TX</td>\n",
       "      <td>33.298570</td>\n",
       "      <td>-96.535860</td>\n",
       "      <td>562212</td>\n",
       "      <td>Waste</td>\n",
       "      <td>NaN</td>\n",
       "    </tr>\n",
       "    <tr>\n",
       "      <th>1</th>\n",
       "      <td>1000112</td>\n",
       "      <td>23rd and 3rd</td>\n",
       "      <td>NY</td>\n",
       "      <td>40.663000</td>\n",
       "      <td>-74.000000</td>\n",
       "      <td>221112</td>\n",
       "      <td>Power Plants</td>\n",
       "      <td>60751.2</td>\n",
       "    </tr>\n",
       "    <tr>\n",
       "      <th>2</th>\n",
       "      <td>1013621</td>\n",
       "      <td>3Bear Libby Gas Plant</td>\n",
       "      <td>NM</td>\n",
       "      <td>32.540693</td>\n",
       "      <td>-103.522351</td>\n",
       "      <td>211130</td>\n",
       "      <td>Petroleum and Natural Gas Systems</td>\n",
       "      <td>39555.5</td>\n",
       "    </tr>\n",
       "    <tr>\n",
       "      <th>3</th>\n",
       "      <td>1003742</td>\n",
       "      <td>31st Street Landfill</td>\n",
       "      <td>IL</td>\n",
       "      <td>41.835129</td>\n",
       "      <td>-87.915924</td>\n",
       "      <td>562212</td>\n",
       "      <td>Waste</td>\n",
       "      <td>334.9</td>\n",
       "    </tr>\n",
       "    <tr>\n",
       "      <th>4</th>\n",
       "      <td>1003188</td>\n",
       "      <td>3M BROWNWOOD</td>\n",
       "      <td>TX</td>\n",
       "      <td>31.671177</td>\n",
       "      <td>-98.996513</td>\n",
       "      <td>326113</td>\n",
       "      <td>Minerals</td>\n",
       "      <td>29329.5</td>\n",
       "    </tr>\n",
       "  </tbody>\n",
       "</table>\n",
       "</div>"
      ],
      "text/plain": [
       "   Facility Id                   Facility Name State   Latitude   Longitude  \\\n",
       "0      1004377  121 REGIONAL DISPOSAL FACILITY    TX  33.298570  -96.535860   \n",
       "1      1000112                    23rd and 3rd    NY  40.663000  -74.000000   \n",
       "2      1013621           3Bear Libby Gas Plant    NM  32.540693 -103.522351   \n",
       "3      1003742            31st Street Landfill    IL  41.835129  -87.915924   \n",
       "4      1003188                    3M BROWNWOOD    TX  31.671177  -98.996513   \n",
       "\n",
       "   Primary NAICS Code            Industry Type (sectors)  \\\n",
       "0              562212                              Waste   \n",
       "1              221112                       Power Plants   \n",
       "2              211130  Petroleum and Natural Gas Systems   \n",
       "3              562212                              Waste   \n",
       "4              326113                           Minerals   \n",
       "\n",
       "   CO2 emissions (non-biogenic)   \n",
       "0                            NaN  \n",
       "1                        60751.2  \n",
       "2                        39555.5  \n",
       "3                          334.9  \n",
       "4                        29329.5  "
      ]
     },
     "execution_count": 2,
     "metadata": {},
     "output_type": "execute_result"
    }
   ],
   "source": [
    "#  Import and read the excel file.\n",
    "import pandas as pd\n",
    "from pandas import ExcelWriter\n",
    "from pandas import ExcelFile\n",
    "read_file = pd.read_excel('Resources/ghgp_data_2020.xlsx', sheet_name='Direct Emitters',header =3)\n",
    "emission_df = pd.DataFrame(read_file, columns=[\"Facility Id\",\n",
    "                                               \"Facility Name\",\n",
    "                                               \"State\",\n",
    "                                               \"Latitude\", \n",
    "                                               \"Longitude\", \n",
    "                                               \"Primary NAICS Code\", \n",
    "                                               \"Industry Type (sectors)\" , \n",
    "                                               \"CO2 emissions (non-biogenic) \"])\n",
    "emission_df.head()"
   ]
  },
  {
   "cell_type": "code",
   "execution_count": 3,
   "id": "f51f524d",
   "metadata": {},
   "outputs": [
    {
     "name": "stdout",
     "output_type": "stream",
     "text": [
      "(5858, 8)\n"
     ]
    }
   ],
   "source": [
    "emission_df.dropna(inplace=True)\n",
    "print(emission_df.shape)"
   ]
  },
  {
   "cell_type": "code",
   "execution_count": 4,
   "id": "9ad2183e",
   "metadata": {},
   "outputs": [
    {
     "data": {
      "text/plain": [
       "Facility Id                        int64\n",
       "Facility Name                     object\n",
       "State                             object\n",
       "Latitude                         float64\n",
       "Longitude                        float64\n",
       "Primary NAICS Code                 int64\n",
       "Industry Type (sectors)           object\n",
       "CO2 emissions (non-biogenic)     float64\n",
       "dtype: object"
      ]
     },
     "execution_count": 4,
     "metadata": {},
     "output_type": "execute_result"
    }
   ],
   "source": [
    "emission_df.dtypes"
   ]
  },
  {
   "cell_type": "code",
   "execution_count": 4,
   "id": "3f66ae39",
   "metadata": {},
   "outputs": [],
   "source": [
    "emission_df.to_csv('data/clean_data.csv')"
   ]
  },
  {
   "cell_type": "code",
   "execution_count": null,
   "id": "242df1a3",
   "metadata": {},
   "outputs": [],
   "source": []
  },
  {
   "cell_type": "code",
   "execution_count": null,
   "id": "ef77dbc5",
   "metadata": {},
   "outputs": [],
   "source": []
  },
  {
   "cell_type": "code",
   "execution_count": null,
   "id": "11a5ef09",
   "metadata": {},
   "outputs": [],
   "source": []
  },
  {
   "cell_type": "code",
   "execution_count": null,
   "id": "619768f3",
   "metadata": {},
   "outputs": [],
   "source": []
  }
 ],
 "metadata": {
  "kernelspec": {
   "display_name": "mlenv",
   "language": "python",
   "name": "mlenv"
  },
  "language_info": {
   "codemirror_mode": {
    "name": "ipython",
    "version": 3
   },
   "file_extension": ".py",
   "mimetype": "text/x-python",
   "name": "python",
   "nbconvert_exporter": "python",
   "pygments_lexer": "ipython3",
   "version": "3.7.10"
  }
 },
 "nbformat": 4,
 "nbformat_minor": 5
}
