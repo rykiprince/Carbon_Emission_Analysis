{
 "cells": [
  {
   "cell_type": "markdown",
   "id": "d8c86f5f",
   "metadata": {},
   "source": [
    "### Import all necessary libraries "
   ]
  },
  {
   "cell_type": "code",
   "execution_count": 1,
   "id": "1ed34b9e",
   "metadata": {},
   "outputs": [],
   "source": [
    "import pandas as pd\n",
    "import numpy as np\n",
    "import matplotlib.pyplot as plt\n",
    "import seaborn as sns\n",
    "from sklearn.preprocessing import MinMaxScaler,StandardScaler\n",
    "from sklearn.model_selection import train_test_split\n",
    "from sklearn.pipeline import Pipeline\n",
    "from sklearn.metrics import r2_score, mean_squared_error\n",
    "#import all the models\n",
    "from sklearn.linear_model import LinearRegression\n",
    "from sklearn.tree import DecisionTreeRegressor\n",
    "from sklearn.ensemble import GradientBoostingRegressor\n",
    "from sklearn.ensemble import RandomForestRegressor\n"
   ]
  },
  {
   "cell_type": "markdown",
   "id": "b6ac635b",
   "metadata": {},
   "source": [
    "### load the cleaned csv file"
   ]
  },
  {
   "cell_type": "code",
   "execution_count": 2,
   "id": "7ce16c5b",
   "metadata": {},
   "outputs": [
    {
     "data": {
      "text/html": [
       "<div>\n",
       "<style scoped>\n",
       "    .dataframe tbody tr th:only-of-type {\n",
       "        vertical-align: middle;\n",
       "    }\n",
       "\n",
       "    .dataframe tbody tr th {\n",
       "        vertical-align: top;\n",
       "    }\n",
       "\n",
       "    .dataframe thead th {\n",
       "        text-align: right;\n",
       "    }\n",
       "</style>\n",
       "<table border=\"1\" class=\"dataframe\">\n",
       "  <thead>\n",
       "    <tr style=\"text-align: right;\">\n",
       "      <th></th>\n",
       "      <th>Unnamed: 0</th>\n",
       "      <th>Facility Id</th>\n",
       "      <th>State</th>\n",
       "      <th>industry_type</th>\n",
       "      <th>total_direct_emissions</th>\n",
       "      <th>state_population</th>\n",
       "      <th>state_gdp_per_capita</th>\n",
       "      <th>state_policies_incentives</th>\n",
       "      <th>USDA_energy_invest_unit</th>\n",
       "      <th>USDA_energy_invest_$</th>\n",
       "      <th>%Renewables</th>\n",
       "    </tr>\n",
       "  </thead>\n",
       "  <tbody>\n",
       "    <tr>\n",
       "      <th>0</th>\n",
       "      <td>0</td>\n",
       "      <td>1004377</td>\n",
       "      <td>TX</td>\n",
       "      <td>Waste Management and Remediation Services</td>\n",
       "      <td>221014.750</td>\n",
       "      <td>27914064</td>\n",
       "      <td>58033.62062</td>\n",
       "      <td>140</td>\n",
       "      <td>176</td>\n",
       "      <td>83600842.01</td>\n",
       "      <td>13.4</td>\n",
       "    </tr>\n",
       "    <tr>\n",
       "      <th>1</th>\n",
       "      <td>1</td>\n",
       "      <td>1003188</td>\n",
       "      <td>TX</td>\n",
       "      <td>Plastics and Rubber Products Manufacturing</td>\n",
       "      <td>31773.480</td>\n",
       "      <td>27914064</td>\n",
       "      <td>58033.62062</td>\n",
       "      <td>140</td>\n",
       "      <td>176</td>\n",
       "      <td>83600842.01</td>\n",
       "      <td>13.4</td>\n",
       "    </tr>\n",
       "    <tr>\n",
       "      <th>2</th>\n",
       "      <td>2</td>\n",
       "      <td>1007733</td>\n",
       "      <td>TX</td>\n",
       "      <td>Utilities</td>\n",
       "      <td>22362.816</td>\n",
       "      <td>27914064</td>\n",
       "      <td>58033.62062</td>\n",
       "      <td>140</td>\n",
       "      <td>176</td>\n",
       "      <td>83600842.01</td>\n",
       "      <td>13.4</td>\n",
       "    </tr>\n",
       "    <tr>\n",
       "      <th>3</th>\n",
       "      <td>3</td>\n",
       "      <td>1002685</td>\n",
       "      <td>TX</td>\n",
       "      <td>Oil and Gas Extraction</td>\n",
       "      <td>265377.770</td>\n",
       "      <td>27914064</td>\n",
       "      <td>58033.62062</td>\n",
       "      <td>140</td>\n",
       "      <td>176</td>\n",
       "      <td>83600842.01</td>\n",
       "      <td>13.4</td>\n",
       "    </tr>\n",
       "    <tr>\n",
       "      <th>4</th>\n",
       "      <td>4</td>\n",
       "      <td>1005601</td>\n",
       "      <td>TX</td>\n",
       "      <td>Nonmetallic Mineral Product Manufacturing</td>\n",
       "      <td>55858.240</td>\n",
       "      <td>27914064</td>\n",
       "      <td>58033.62062</td>\n",
       "      <td>140</td>\n",
       "      <td>176</td>\n",
       "      <td>83600842.01</td>\n",
       "      <td>13.4</td>\n",
       "    </tr>\n",
       "  </tbody>\n",
       "</table>\n",
       "</div>"
      ],
      "text/plain": [
       "   Unnamed: 0  Facility Id State                               industry_type  \\\n",
       "0           0      1004377    TX   Waste Management and Remediation Services   \n",
       "1           1      1003188    TX  Plastics and Rubber Products Manufacturing   \n",
       "2           2      1007733    TX                                  Utilities    \n",
       "3           3      1002685    TX                      Oil and Gas Extraction   \n",
       "4           4      1005601    TX   Nonmetallic Mineral Product Manufacturing   \n",
       "\n",
       "   total_direct_emissions  state_population  state_gdp_per_capita  \\\n",
       "0              221014.750          27914064           58033.62062   \n",
       "1               31773.480          27914064           58033.62062   \n",
       "2               22362.816          27914064           58033.62062   \n",
       "3              265377.770          27914064           58033.62062   \n",
       "4               55858.240          27914064           58033.62062   \n",
       "\n",
       "   state_policies_incentives  USDA_energy_invest_unit  USDA_energy_invest_$  \\\n",
       "0                        140                      176           83600842.01   \n",
       "1                        140                      176           83600842.01   \n",
       "2                        140                      176           83600842.01   \n",
       "3                        140                      176           83600842.01   \n",
       "4                        140                      176           83600842.01   \n",
       "\n",
       "   %Renewables  \n",
       "0         13.4  \n",
       "1         13.4  \n",
       "2         13.4  \n",
       "3         13.4  \n",
       "4         13.4  "
      ]
     },
     "execution_count": 2,
     "metadata": {},
     "output_type": "execute_result"
    }
   ],
   "source": [
    "df = pd.read_excel('.\\data_C/ml_database2.xlsx')\n",
    "df.head()"
   ]
  },
  {
   "cell_type": "markdown",
   "id": "6a0b4d4b",
   "metadata": {},
   "source": [
    "### Display the column names in the data frame:"
   ]
  },
  {
   "cell_type": "code",
   "execution_count": 3,
   "id": "eb4d2818",
   "metadata": {},
   "outputs": [
    {
     "data": {
      "text/plain": [
       "Index(['Unnamed: 0', 'Facility Id', 'State', 'industry_type',\n",
       "       'total_direct_emissions', 'state_population', 'state_gdp_per_capita',\n",
       "       'state_policies_incentives', 'USDA_energy_invest_unit',\n",
       "       'USDA_energy_invest_$', '%Renewables'],\n",
       "      dtype='object')"
      ]
     },
     "execution_count": 3,
     "metadata": {},
     "output_type": "execute_result"
    }
   ],
   "source": [
    "df.columns"
   ]
  },
  {
   "cell_type": "markdown",
   "id": "6f1cedb7",
   "metadata": {},
   "source": [
    "### Delete the unnecessary columns:"
   ]
  },
  {
   "cell_type": "code",
   "execution_count": 4,
   "id": "062bb41b",
   "metadata": {},
   "outputs": [],
   "source": [
    "df.drop(['Unnamed: 0','Facility Id'], axis = 1, inplace = True)"
   ]
  },
  {
   "cell_type": "markdown",
   "id": "5fa66535",
   "metadata": {},
   "source": [
    "### Display the data types of the columns:"
   ]
  },
  {
   "cell_type": "code",
   "execution_count": 5,
   "id": "0cac1f1e",
   "metadata": {},
   "outputs": [
    {
     "data": {
      "text/plain": [
       "State                         object\n",
       "industry_type                 object\n",
       "total_direct_emissions       float64\n",
       "state_population               int64\n",
       "state_gdp_per_capita         float64\n",
       "state_policies_incentives      int64\n",
       "USDA_energy_invest_unit        int64\n",
       "USDA_energy_invest_$         float64\n",
       "%Renewables                  float64\n",
       "dtype: object"
      ]
     },
     "execution_count": 5,
     "metadata": {},
     "output_type": "execute_result"
    }
   ],
   "source": [
    "df.dtypes"
   ]
  },
  {
   "cell_type": "markdown",
   "id": "4299d119",
   "metadata": {},
   "source": [
    "### Display the shape of the data frame:"
   ]
  },
  {
   "cell_type": "code",
   "execution_count": 6,
   "id": "2094a4de",
   "metadata": {},
   "outputs": [
    {
     "data": {
      "text/plain": [
       "(15641, 9)"
      ]
     },
     "execution_count": 6,
     "metadata": {},
     "output_type": "execute_result"
    }
   ],
   "source": [
    "df.shape"
   ]
  },
  {
   "cell_type": "markdown",
   "id": "d1658a7e",
   "metadata": {},
   "source": [
    "### Display the general information about the dataset:"
   ]
  },
  {
   "cell_type": "code",
   "execution_count": 7,
   "id": "63912e3e",
   "metadata": {},
   "outputs": [
    {
     "name": "stdout",
     "output_type": "stream",
     "text": [
      "<class 'pandas.core.frame.DataFrame'>\n",
      "RangeIndex: 15641 entries, 0 to 15640\n",
      "Data columns (total 9 columns):\n",
      " #   Column                     Non-Null Count  Dtype  \n",
      "---  ------                     --------------  -----  \n",
      " 0   State                      15641 non-null  object \n",
      " 1   industry_type              15641 non-null  object \n",
      " 2   total_direct_emissions     15641 non-null  float64\n",
      " 3   state_population           15641 non-null  int64  \n",
      " 4   state_gdp_per_capita       15641 non-null  float64\n",
      " 5   state_policies_incentives  15641 non-null  int64  \n",
      " 6   USDA_energy_invest_unit    15641 non-null  int64  \n",
      " 7   USDA_energy_invest_$       15641 non-null  float64\n",
      " 8   %Renewables                15641 non-null  float64\n",
      "dtypes: float64(4), int64(3), object(2)\n",
      "memory usage: 1.1+ MB\n"
     ]
    }
   ],
   "source": [
    "df.info()"
   ]
  },
  {
   "cell_type": "markdown",
   "id": "f6e767bd",
   "metadata": {},
   "source": [
    "### Count the number of the missing values in the data frame:"
   ]
  },
  {
   "cell_type": "code",
   "execution_count": 8,
   "id": "f3a8581f",
   "metadata": {},
   "outputs": [
    {
     "data": {
      "text/plain": [
       "State                        0\n",
       "industry_type                0\n",
       "total_direct_emissions       0\n",
       "state_population             0\n",
       "state_gdp_per_capita         0\n",
       "state_policies_incentives    0\n",
       "USDA_energy_invest_unit      0\n",
       "USDA_energy_invest_$         0\n",
       "%Renewables                  0\n",
       "dtype: int64"
      ]
     },
     "execution_count": 8,
     "metadata": {},
     "output_type": "execute_result"
    }
   ],
   "source": [
    "df.isnull().sum()"
   ]
  },
  {
   "cell_type": "markdown",
   "id": "ae628707",
   "metadata": {},
   "source": [
    "### Value Counts for Industry type column:"
   ]
  },
  {
   "cell_type": "code",
   "execution_count": 9,
   "id": "806c2c5a",
   "metadata": {},
   "outputs": [
    {
     "data": {
      "text/plain": [
       "Utilities                                    3249\n",
       "Waste Management and Remediation Services    2701\n",
       "Oil and Gas Extraction                       2133\n",
       "Chemical Manufacturing                       1662\n",
       "Pipeline Transportation                      1613\n",
       "Nonmetallic Mineral Product Manufacturing     740\n",
       "Primary Metal Manufacturing                   616\n",
       "Petroleum and Coal Products Manufacturing     539\n",
       "Food Manufacturing                            516\n",
       "Paper Manufacturing                           355\n",
       "Name: industry_type, dtype: int64"
      ]
     },
     "execution_count": 9,
     "metadata": {},
     "output_type": "execute_result"
    }
   ],
   "source": [
    "df['industry_type'].value_counts().head(10)"
   ]
  },
  {
   "cell_type": "markdown",
   "id": "0f31eaaa",
   "metadata": {},
   "source": [
    "### Histograme for '%Renewables' column:"
   ]
  },
  {
   "cell_type": "code",
   "execution_count": 10,
   "id": "b0b40f13",
   "metadata": {},
   "outputs": [
    {
     "data": {
      "text/plain": [
       "<AxesSubplot:>"
      ]
     },
     "execution_count": 10,
     "metadata": {},
     "output_type": "execute_result"
    },
    {
     "data": {
      "image/png": "[encoded data removed]",
      "text/plain": [
       "<Figure size 432x288 with 1 Axes>"
      ]
     },
     "metadata": {
      "needs_background": "light"
     },
     "output_type": "display_data"
    }
   ],
   "source": [
    "df['%Renewables'].hist()"
   ]
  },
  {
   "cell_type": "markdown",
   "id": "7e2ef5aa",
   "metadata": {},
   "source": [
    "### Display the number of unique values in 'State' column:"
   ]
  },
  {
   "cell_type": "code",
   "execution_count": 11,
   "id": "0ee783c4",
   "metadata": {},
   "outputs": [
    {
     "data": {
      "text/plain": [
       "array(['TX', 'CA', 'NY', 'IL', 'PA', 'FL', 'MI', 'LA', 'OH', 'OK'],\n",
       "      dtype=object)"
      ]
     },
     "execution_count": 11,
     "metadata": {},
     "output_type": "execute_result"
    }
   ],
   "source": [
    "df['State'].unique()"
   ]
  },
  {
   "cell_type": "markdown",
   "id": "1e665e82",
   "metadata": {},
   "source": [
    "### Assign numeric codes to categorical columns 'State' and 'industry_type'"
   ]
  },
  {
   "cell_type": "code",
   "execution_count": 12,
   "id": "d128f5db",
   "metadata": {},
   "outputs": [],
   "source": [
    "df['State'] = df['State'].astype('category')\n",
    "df['State'] = df['State'].cat.codes\n",
    "\n",
    "df['industry_type'] = df['industry_type'].astype('category')\n",
    "df['industry_type'] = df['industry_type'].cat.codes"
   ]
  },
  {
   "cell_type": "markdown",
   "id": "9f9f5831",
   "metadata": {},
   "source": [
    "### Make the histograme for 'total_direct_emissions' column:\n",
    "We can see that most of the values fall in the beggining of the graph, graph has long tail, and do not follow normal distribution. Models may struggle here."
   ]
  },
  {
   "cell_type": "code",
   "execution_count": 13,
   "id": "b52c60a1",
   "metadata": {},
   "outputs": [
    {
     "data": {
      "image/png": "[encoded data removed]",
      "text/plain": [
       "<Figure size 432x288 with 1 Axes>"
      ]
     },
     "metadata": {
      "needs_background": "light"
     },
     "output_type": "display_data"
    }
   ],
   "source": [
    "df['total_direct_emissions'].hist()\n",
    "plt.show()"
   ]
  },
  {
   "cell_type": "markdown",
   "id": "b28e431d",
   "metadata": {},
   "source": [
    "### Log transformation of the 'total_direct_emissions' column and take values only greater than 6, "
   ]
  },
  {
   "cell_type": "code",
   "execution_count": 14,
   "id": "c342b5cc",
   "metadata": {},
   "outputs": [],
   "source": [
    "df['total_direct_emissions'] = np.log1p(df['total_direct_emissions'])\n",
    "df['total_direct_emissions']\n",
    "df = df.loc[df['total_direct_emissions'] > 6, :]"
   ]
  },
  {
   "cell_type": "markdown",
   "id": "71707e02",
   "metadata": {},
   "source": [
    "We can see that data seems to follow normal distribution now,  we can fit the model "
   ]
  },
  {
   "cell_type": "code",
   "execution_count": 15,
   "id": "2cffefcf",
   "metadata": {},
   "outputs": [
    {
     "data": {
      "text/plain": [
       "<AxesSubplot:>"
      ]
     },
     "execution_count": 15,
     "metadata": {},
     "output_type": "execute_result"
    },
    {
     "data": {
      "image/png": "[encoded data removed]",
      "text/plain": [
       "<Figure size 432x288 with 1 Axes>"
      ]
     },
     "metadata": {
      "needs_background": "light"
     },
     "output_type": "display_data"
    }
   ],
   "source": [
    "df['total_direct_emissions'].hist()"
   ]
  },
  {
   "cell_type": "markdown",
   "id": "5d70893f",
   "metadata": {},
   "source": [
    "### How data frame looks like now:"
   ]
  },
  {
   "cell_type": "code",
   "execution_count": 16,
   "id": "bc01d844",
   "metadata": {},
   "outputs": [
    {
     "data": {
      "text/html": [
       "<div>\n",
       "<style scoped>\n",
       "    .dataframe tbody tr th:only-of-type {\n",
       "        vertical-align: middle;\n",
       "    }\n",
       "\n",
       "    .dataframe tbody tr th {\n",
       "        vertical-align: top;\n",
       "    }\n",
       "\n",
       "    .dataframe thead th {\n",
       "        text-align: right;\n",
       "    }\n",
       "</style>\n",
       "<table border=\"1\" class=\"dataframe\">\n",
       "  <thead>\n",
       "    <tr style=\"text-align: right;\">\n",
       "      <th></th>\n",
       "      <th>State</th>\n",
       "      <th>industry_type</th>\n",
       "      <th>total_direct_emissions</th>\n",
       "      <th>state_population</th>\n",
       "      <th>state_gdp_per_capita</th>\n",
       "      <th>state_policies_incentives</th>\n",
       "      <th>USDA_energy_invest_unit</th>\n",
       "      <th>USDA_energy_invest_$</th>\n",
       "      <th>%Renewables</th>\n",
       "    </tr>\n",
       "  </thead>\n",
       "  <tbody>\n",
       "    <tr>\n",
       "      <th>0</th>\n",
       "      <td>9</td>\n",
       "      <td>41</td>\n",
       "      <td>12.305989</td>\n",
       "      <td>27914064</td>\n",
       "      <td>58033.62062</td>\n",
       "      <td>140</td>\n",
       "      <td>176</td>\n",
       "      <td>83600842.01</td>\n",
       "      <td>13.4</td>\n",
       "    </tr>\n",
       "    <tr>\n",
       "      <th>1</th>\n",
       "      <td>9</td>\n",
       "      <td>30</td>\n",
       "      <td>10.366419</td>\n",
       "      <td>27914064</td>\n",
       "      <td>58033.62062</td>\n",
       "      <td>140</td>\n",
       "      <td>176</td>\n",
       "      <td>83600842.01</td>\n",
       "      <td>13.4</td>\n",
       "    </tr>\n",
       "    <tr>\n",
       "      <th>2</th>\n",
       "      <td>9</td>\n",
       "      <td>39</td>\n",
       "      <td>10.015200</td>\n",
       "      <td>27914064</td>\n",
       "      <td>58033.62062</td>\n",
       "      <td>140</td>\n",
       "      <td>176</td>\n",
       "      <td>83600842.01</td>\n",
       "      <td>13.4</td>\n",
       "    </tr>\n",
       "    <tr>\n",
       "      <th>3</th>\n",
       "      <td>9</td>\n",
       "      <td>26</td>\n",
       "      <td>12.488913</td>\n",
       "      <td>27914064</td>\n",
       "      <td>58033.62062</td>\n",
       "      <td>140</td>\n",
       "      <td>176</td>\n",
       "      <td>83600842.01</td>\n",
       "      <td>13.4</td>\n",
       "    </tr>\n",
       "    <tr>\n",
       "      <th>4</th>\n",
       "      <td>9</td>\n",
       "      <td>25</td>\n",
       "      <td>10.930590</td>\n",
       "      <td>27914064</td>\n",
       "      <td>58033.62062</td>\n",
       "      <td>140</td>\n",
       "      <td>176</td>\n",
       "      <td>83600842.01</td>\n",
       "      <td>13.4</td>\n",
       "    </tr>\n",
       "  </tbody>\n",
       "</table>\n",
       "</div>"
      ],
      "text/plain": [
       "   State  industry_type  total_direct_emissions  state_population  \\\n",
       "0      9             41               12.305989          27914064   \n",
       "1      9             30               10.366419          27914064   \n",
       "2      9             39               10.015200          27914064   \n",
       "3      9             26               12.488913          27914064   \n",
       "4      9             25               10.930590          27914064   \n",
       "\n",
       "   state_gdp_per_capita  state_policies_incentives  USDA_energy_invest_unit  \\\n",
       "0           58033.62062                        140                      176   \n",
       "1           58033.62062                        140                      176   \n",
       "2           58033.62062                        140                      176   \n",
       "3           58033.62062                        140                      176   \n",
       "4           58033.62062                        140                      176   \n",
       "\n",
       "   USDA_energy_invest_$  %Renewables  \n",
       "0           83600842.01         13.4  \n",
       "1           83600842.01         13.4  \n",
       "2           83600842.01         13.4  \n",
       "3           83600842.01         13.4  \n",
       "4           83600842.01         13.4  "
      ]
     },
     "execution_count": 16,
     "metadata": {},
     "output_type": "execute_result"
    }
   ],
   "source": [
    "df.head()"
   ]
  },
  {
   "cell_type": "markdown",
   "id": "748cb42d",
   "metadata": {},
   "source": [
    "### Correlation between target variable 'total_direct_emissions' and all others"
   ]
  },
  {
   "cell_type": "code",
   "execution_count": 17,
   "id": "61efb992",
   "metadata": {},
   "outputs": [
    {
     "data": {
      "text/plain": [
       "State                        0.062535\n",
       "industry_type                0.014538\n",
       "state_population             0.010373\n",
       "state_gdp_per_capita        -0.068038\n",
       "state_policies_incentives   -0.014169\n",
       "USDA_energy_invest_unit     -0.049032\n",
       "USDA_energy_invest_$         0.016310\n",
       "%Renewables                 -0.061437\n",
       "dtype: float64"
      ]
     },
     "execution_count": 17,
     "metadata": {},
     "output_type": "execute_result"
    }
   ],
   "source": [
    "df.drop(\"total_direct_emissions\", axis=1).apply(lambda x: x.corr(df.total_direct_emissions))"
   ]
  },
  {
   "cell_type": "markdown",
   "id": "4c7621f4",
   "metadata": {},
   "source": [
    "###  plot the correlation heatmap "
   ]
  },
  {
   "cell_type": "code",
   "execution_count": 18,
   "id": "4a446665",
   "metadata": {},
   "outputs": [
    {
     "data": {
      "image/png": "[encoded data removed]",
      "text/plain": [
       "<Figure size 1008x576 with 2 Axes>"
      ]
     },
     "metadata": {
      "needs_background": "light"
     },
     "output_type": "display_data"
    }
   ],
   "source": [
    "\n",
    "corr = df.corr()\n",
    "\n",
    "plt.figure(figsize = (14,8))\n",
    "sns.heatmap(corr, \n",
    "        xticklabels=corr.columns,\n",
    "        linewidth=0.5,\n",
    "        yticklabels=corr.columns,\n",
    "           cmap=\"YlGnBu\")\n",
    "plt.show()"
   ]
  },
  {
   "cell_type": "markdown",
   "id": "36c52cbc",
   "metadata": {},
   "source": [
    "### Divide the data into Features and Response variable:"
   ]
  },
  {
   "cell_type": "code",
   "execution_count": 19,
   "id": "e8edffb8",
   "metadata": {},
   "outputs": [],
   "source": [
    "#features\n",
    "X = df.loc[:, df.columns != 'total_direct_emissions']  \n",
    "# Target variable\n",
    "y = df['total_direct_emissions'] "
   ]
  },
  {
   "cell_type": "markdown",
   "id": "fb019fe6",
   "metadata": {},
   "source": [
    "### Use 80% of the rows as training set and 20% of the rows as testing set"
   ]
  },
  {
   "cell_type": "code",
   "execution_count": 20,
   "id": "65dfca8a",
   "metadata": {},
   "outputs": [],
   "source": [
    "X_train, X_test, y_train, y_test = train_test_split(X, y, test_size=0.20, random_state=42)"
   ]
  },
  {
   "cell_type": "markdown",
   "id": "ec44116f",
   "metadata": {},
   "source": [
    "### Scale the training and testing dataset using StandardScaler:"
   ]
  },
  {
   "cell_type": "code",
   "execution_count": 21,
   "id": "ac788d29",
   "metadata": {},
   "outputs": [],
   "source": [
    "scaler = StandardScaler()\n",
    "X_train_scaled = scaler.fit_transform(X_train)\n",
    "X_test_scaled = scaler.fit_transform(X_test)"
   ]
  },
  {
   "cell_type": "markdown",
   "id": "7b5514bb",
   "metadata": {},
   "source": [
    "## Fit and Train Linear regression Model:"
   ]
  },
  {
   "cell_type": "code",
   "execution_count": 22,
   "id": "33178c33",
   "metadata": {},
   "outputs": [],
   "source": [
    "# Inilialize the Linear Regresor\n",
    "Lr_regressor = LinearRegression()\n",
    "# Fit the Linear Regresor Regressor\n",
    "Lr_regressor.fit(X_train_scaled, y_train)\n",
    "# predict the values using test data\n",
    "y_pred = Lr_regressor.predict(X_test_scaled)"
   ]
  },
  {
   "cell_type": "markdown",
   "id": "47f13a54",
   "metadata": {},
   "source": [
    "### Evaluate the Linear Regression Model using R2 and RMSE score:"
   ]
  },
  {
   "cell_type": "code",
   "execution_count": 23,
   "id": "caf1e7a8",
   "metadata": {},
   "outputs": [
    {
     "name": "stdout",
     "output_type": "stream",
     "text": [
      "R2 score of Linear Regressot is: -45.73494695481945\n",
      "RMSE score of Linear Regressot is: 1.5813829992867667\n"
     ]
    }
   ],
   "source": [
    "R2 = r2_score(y_pred, y_test)\n",
    "RMSE = np.sqrt(mean_squared_error(y_pred, y_test))\n",
    "print(\"R2 score of Linear Regressot is:\", R2)\n",
    "print(\"RMSE score of Linear Regressot is:\", RMSE)\n"
   ]
  },
  {
   "cell_type": "markdown",
   "id": "7ef747ee",
   "metadata": {},
   "source": [
    "## Fit and train RandomForest Regressor Model:"
   ]
  },
  {
   "cell_type": "code",
   "execution_count": 24,
   "id": "5fe582dc",
   "metadata": {},
   "outputs": [],
   "source": [
    "# Inilialize the Random Forest Regresor\n",
    "Rf_regressor = RandomForestRegressor()\n",
    "# Fit the Random Forest Regressor\n",
    "Rf_regressor.fit(X_train_scaled, y_train)\n",
    "# predict the values using test data\n",
    "y_pred = Rf_regressor.predict(X_test_scaled)"
   ]
  },
  {
   "cell_type": "markdown",
   "id": "5b945d88",
   "metadata": {},
   "source": [
    "### Evaluate the RandomForest Regressor using R2 and RMSE score:"
   ]
  },
  {
   "cell_type": "code",
   "execution_count": 25,
   "id": "5b7707bf",
   "metadata": {},
   "outputs": [
    {
     "name": "stdout",
     "output_type": "stream",
     "text": [
      "R2 score of RandomForest Regressot is: -1.4406725667423808\n",
      "RMSE score of  RandomForest Regressot is: 1.451367017003759\n"
     ]
    }
   ],
   "source": [
    "R2 = r2_score(y_pred, y_test)\n",
    "RMSE = np.sqrt(mean_squared_error(y_pred, y_test))\n",
    "print(\"R2 score of RandomForest Regressot is:\", R2)\n",
    "print(\"RMSE score of  RandomForest Regressot is:\", RMSE)\n"
   ]
  },
  {
   "cell_type": "markdown",
   "id": "c2d4ec9e",
   "metadata": {},
   "source": [
    "## Fit and train DecisionTree Regressor Model:"
   ]
  },
  {
   "cell_type": "code",
   "execution_count": 26,
   "id": "439cc91d",
   "metadata": {},
   "outputs": [],
   "source": [
    "# Inilialize the Decision Tree Regressor\n",
    "Dt_regressor = DecisionTreeRegressor()\n",
    "# Fit the Decision Tree Regressor\n",
    "Dt_regressor.fit(X_train_scaled, y_train)\n",
    "# predict the values using test data\n",
    "y_pred = Dt_regressor.predict(X_test_scaled)"
   ]
  },
  {
   "cell_type": "markdown",
   "id": "cada9c59",
   "metadata": {},
   "source": [
    "### Evaluate the Linear DecisionTree Regressor using R2 and RMSE score:"
   ]
  },
  {
   "cell_type": "code",
   "execution_count": 27,
   "id": "0dce56ad",
   "metadata": {},
   "outputs": [
    {
     "name": "stdout",
     "output_type": "stream",
     "text": [
      "R2 score of DecisionTree Regressor is: -1.3380459137429268\n",
      "RMSE score of DecisionTree Regressor is: 1.475001253408057\n"
     ]
    }
   ],
   "source": [
    "R2 = r2_score(y_pred, y_test)\n",
    "RMSE = np.sqrt(mean_squared_error(y_pred, y_test))\n",
    "print(\"R2 score of DecisionTree Regressor is:\", R2)\n",
    "print(\"RMSE score of DecisionTree Regressor is:\", RMSE)\n"
   ]
  },
  {
   "cell_type": "code",
   "execution_count": null,
   "id": "13af6a42",
   "metadata": {},
   "outputs": [],
   "source": []
  }
 ],
 "metadata": {
  "kernelspec": {
   "display_name": "Python 3",
   "language": "python",
   "name": "python3"
  },
  "language_info": {
   "codemirror_mode": {
    "name": "ipython",
    "version": 3
   },
   "file_extension": ".py",
   "mimetype": "text/x-python",
   "name": "python",
   "nbconvert_exporter": "python",
   "pygments_lexer": "ipython3",
   "version": "3.8.8"
  }
 },
 "nbformat": 4,
 "nbformat_minor": 5
}
