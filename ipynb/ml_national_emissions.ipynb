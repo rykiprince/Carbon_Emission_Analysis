{
  "nbformat": 4,
  "nbformat_minor": 5,
  "metadata": {
    "kernelspec": {
      "display_name": "mlenv",
      "language": "python",
      "name": "python3"
    },
    "language_info": {
      "codemirror_mode": {
        "name": "ipython",
        "version": 3
      },
      "file_extension": ".py",
      "mimetype": "text/x-python",
      "name": "python",
      "nbconvert_exporter": "python",
      "pygments_lexer": "ipython3",
      "version": "3.9.7"
    },
    "colab": {
      "name": "ml_national_emissions.ipynb",
      "provenance": [],
      "collapsed_sections": []
    }
  },
  "cells": [
    {
      "cell_type": "code",
      "metadata": {
        "scrolled": true,
        "id": "d555573b"
      },
      "source": [
        "# Initial imports.\n",
        "import pandas as pd\n",
        "import os\n",
        "import numpy as np\n",
        "from sklearn.ensemble import RandomForestClassifier\n",
        "from sklearn.preprocessing import StandardScaler\n",
        "from sklearn.model_selection import train_test_split\n",
        "from sklearn.metrics import confusion_matrix, accuracy_score, classification_report\n",
        "from sklearn.preprocessing import LabelEncoder"
      ],
      "id": "d555573b",
      "execution_count": 1,
      "outputs": []
    },
    {
      "cell_type": "code",
      "metadata": {
        "colab": {
          "base_uri": "https://localhost:8080/"
        },
        "id": "qtzgeZAjegnA",
        "outputId": "87159b2c-4957-41de-f105-bee2807bfe8d"
      },
      "source": [
        "from google.colab import drive\n",
        "drive.mount('/content/drive')"
      ],
      "id": "qtzgeZAjegnA",
      "execution_count": 2,
      "outputs": [
        {
          "output_type": "stream",
          "name": "stdout",
          "text": [
            "Drive already mounted at /content/drive; to attempt to forcibly remount, call drive.mount(\"/content/drive\", force_remount=True).\n"
          ]
        }
      ]
    },
    {
      "cell_type": "code",
      "metadata": {
        "colab": {
          "base_uri": "https://localhost:8080/",
          "height": 382
        },
        "id": "7a10200e",
        "outputId": "306de886-653c-4467-860b-c6e980ebd139"
      },
      "source": [
        "# Loading data\n",
        "file_path = os.path.join(\"/content/drive/MyDrive/ml_database.csv\")\n",
        "df_emissions = pd.read_csv(file_path)\n",
        "df_emissions.head()"
      ],
      "id": "7a10200e",
      "execution_count": 3,
      "outputs": [
        {
          "output_type": "execute_result",
          "data": {
            "text/html": [
              "<div>\n",
              "<style scoped>\n",
              "    .dataframe tbody tr th:only-of-type {\n",
              "        vertical-align: middle;\n",
              "    }\n",
              "\n",
              "    .dataframe tbody tr th {\n",
              "        vertical-align: top;\n",
              "    }\n",
              "\n",
              "    .dataframe thead th {\n",
              "        text-align: right;\n",
              "    }\n",
              "</style>\n",
              "<table border=\"1\" class=\"dataframe\">\n",
              "  <thead>\n",
              "    <tr style=\"text-align: right;\">\n",
              "      <th></th>\n",
              "      <th>Facility Id</th>\n",
              "      <th>State</th>\n",
              "      <th>industry_type</th>\n",
              "      <th>year</th>\n",
              "      <th>total_direct_emissions</th>\n",
              "      <th>state_population</th>\n",
              "      <th>state_gdp_per_capita</th>\n",
              "      <th>state_policies_incentives</th>\n",
              "      <th>USDA_energy_invest_unit</th>\n",
              "      <th>USDA_energy_invest_$</th>\n",
              "      <th>%Renewables</th>\n",
              "    </tr>\n",
              "  </thead>\n",
              "  <tbody>\n",
              "    <tr>\n",
              "      <th>0</th>\n",
              "      <td>1004377</td>\n",
              "      <td>TX</td>\n",
              "      <td>Waste Management and Remediation Services</td>\n",
              "      <td>2016</td>\n",
              "      <td>221014.750</td>\n",
              "      <td>27914064</td>\n",
              "      <td>58033.62062</td>\n",
              "      <td>140</td>\n",
              "      <td>176</td>\n",
              "      <td>83600842.01</td>\n",
              "      <td>13.4</td>\n",
              "    </tr>\n",
              "    <tr>\n",
              "      <th>1</th>\n",
              "      <td>1003188</td>\n",
              "      <td>TX</td>\n",
              "      <td>Plastics and Rubber Products Manufacturing</td>\n",
              "      <td>2016</td>\n",
              "      <td>31773.480</td>\n",
              "      <td>27914064</td>\n",
              "      <td>58033.62062</td>\n",
              "      <td>140</td>\n",
              "      <td>176</td>\n",
              "      <td>83600842.01</td>\n",
              "      <td>13.4</td>\n",
              "    </tr>\n",
              "    <tr>\n",
              "      <th>2</th>\n",
              "      <td>1007733</td>\n",
              "      <td>TX</td>\n",
              "      <td>Utilities</td>\n",
              "      <td>2016</td>\n",
              "      <td>22362.816</td>\n",
              "      <td>27914064</td>\n",
              "      <td>58033.62062</td>\n",
              "      <td>140</td>\n",
              "      <td>176</td>\n",
              "      <td>83600842.01</td>\n",
              "      <td>13.4</td>\n",
              "    </tr>\n",
              "    <tr>\n",
              "      <th>3</th>\n",
              "      <td>1002685</td>\n",
              "      <td>TX</td>\n",
              "      <td>Oil and Gas Extraction</td>\n",
              "      <td>2016</td>\n",
              "      <td>265377.770</td>\n",
              "      <td>27914064</td>\n",
              "      <td>58033.62062</td>\n",
              "      <td>140</td>\n",
              "      <td>176</td>\n",
              "      <td>83600842.01</td>\n",
              "      <td>13.4</td>\n",
              "    </tr>\n",
              "    <tr>\n",
              "      <th>4</th>\n",
              "      <td>1005601</td>\n",
              "      <td>TX</td>\n",
              "      <td>Nonmetallic Mineral Product Manufacturing</td>\n",
              "      <td>2016</td>\n",
              "      <td>55858.240</td>\n",
              "      <td>27914064</td>\n",
              "      <td>58033.62062</td>\n",
              "      <td>140</td>\n",
              "      <td>176</td>\n",
              "      <td>83600842.01</td>\n",
              "      <td>13.4</td>\n",
              "    </tr>\n",
              "  </tbody>\n",
              "</table>\n",
              "</div>"
            ],
            "text/plain": [
              "   Facility Id State  ... USDA_energy_invest_$  %Renewables\n",
              "0      1004377    TX  ...          83600842.01         13.4\n",
              "1      1003188    TX  ...          83600842.01         13.4\n",
              "2      1007733    TX  ...          83600842.01         13.4\n",
              "3      1002685    TX  ...          83600842.01         13.4\n",
              "4      1005601    TX  ...          83600842.01         13.4\n",
              "\n",
              "[5 rows x 11 columns]"
            ]
          },
          "metadata": {},
          "execution_count": 3
        }
      ]
    },
    {
      "cell_type": "code",
      "metadata": {
        "id": "eec52a57",
        "colab": {
          "base_uri": "https://localhost:8080/"
        },
        "outputId": "bd04d948-7b01-4194-c8e6-5fc1a7f87029"
      },
      "source": [
        "df_emissions.dtypes"
      ],
      "id": "eec52a57",
      "execution_count": 4,
      "outputs": [
        {
          "output_type": "execute_result",
          "data": {
            "text/plain": [
              "Facility Id                    int64\n",
              "State                         object\n",
              "industry_type                 object\n",
              "year                           int64\n",
              "total_direct_emissions       float64\n",
              "state_population               int64\n",
              "state_gdp_per_capita         float64\n",
              "state_policies_incentives      int64\n",
              "USDA_energy_invest_unit        int64\n",
              "USDA_energy_invest_$         float64\n",
              "%Renewables                  float64\n",
              "dtype: object"
            ]
          },
          "metadata": {},
          "execution_count": 4
        }
      ]
    },
    {
      "cell_type": "code",
      "metadata": {
        "id": "151e35c2",
        "colab": {
          "base_uri": "https://localhost:8080/",
          "height": 206
        },
        "outputId": "1b285a8f-98ca-4cb3-f9f8-47930a6f174e"
      },
      "source": [
        "# Define the features set.\n",
        "le = LabelEncoder()\n",
        "X = df_emissions.copy()\n",
        "X[\"State\"] = le.fit_transform(X[\"State\"])\n",
        "X[\"industry_type\"] = le.fit_transform(X[\"industry_type\"])\n",
        "X = X.drop(columns=[\"total_direct_emissions\",\"Facility Id\"])\n",
        "X.head()"
      ],
      "id": "151e35c2",
      "execution_count": 5,
      "outputs": [
        {
          "output_type": "execute_result",
          "data": {
            "text/html": [
              "<div>\n",
              "<style scoped>\n",
              "    .dataframe tbody tr th:only-of-type {\n",
              "        vertical-align: middle;\n",
              "    }\n",
              "\n",
              "    .dataframe tbody tr th {\n",
              "        vertical-align: top;\n",
              "    }\n",
              "\n",
              "    .dataframe thead th {\n",
              "        text-align: right;\n",
              "    }\n",
              "</style>\n",
              "<table border=\"1\" class=\"dataframe\">\n",
              "  <thead>\n",
              "    <tr style=\"text-align: right;\">\n",
              "      <th></th>\n",
              "      <th>State</th>\n",
              "      <th>industry_type</th>\n",
              "      <th>year</th>\n",
              "      <th>state_population</th>\n",
              "      <th>state_gdp_per_capita</th>\n",
              "      <th>state_policies_incentives</th>\n",
              "      <th>USDA_energy_invest_unit</th>\n",
              "      <th>USDA_energy_invest_$</th>\n",
              "      <th>%Renewables</th>\n",
              "    </tr>\n",
              "  </thead>\n",
              "  <tbody>\n",
              "    <tr>\n",
              "      <th>0</th>\n",
              "      <td>39</td>\n",
              "      <td>48</td>\n",
              "      <td>2016</td>\n",
              "      <td>27914064</td>\n",
              "      <td>58033.62062</td>\n",
              "      <td>140</td>\n",
              "      <td>176</td>\n",
              "      <td>83600842.01</td>\n",
              "      <td>13.4</td>\n",
              "    </tr>\n",
              "    <tr>\n",
              "      <th>1</th>\n",
              "      <td>39</td>\n",
              "      <td>33</td>\n",
              "      <td>2016</td>\n",
              "      <td>27914064</td>\n",
              "      <td>58033.62062</td>\n",
              "      <td>140</td>\n",
              "      <td>176</td>\n",
              "      <td>83600842.01</td>\n",
              "      <td>13.4</td>\n",
              "    </tr>\n",
              "    <tr>\n",
              "      <th>2</th>\n",
              "      <td>39</td>\n",
              "      <td>46</td>\n",
              "      <td>2016</td>\n",
              "      <td>27914064</td>\n",
              "      <td>58033.62062</td>\n",
              "      <td>140</td>\n",
              "      <td>176</td>\n",
              "      <td>83600842.01</td>\n",
              "      <td>13.4</td>\n",
              "    </tr>\n",
              "    <tr>\n",
              "      <th>3</th>\n",
              "      <td>39</td>\n",
              "      <td>29</td>\n",
              "      <td>2016</td>\n",
              "      <td>27914064</td>\n",
              "      <td>58033.62062</td>\n",
              "      <td>140</td>\n",
              "      <td>176</td>\n",
              "      <td>83600842.01</td>\n",
              "      <td>13.4</td>\n",
              "    </tr>\n",
              "    <tr>\n",
              "      <th>4</th>\n",
              "      <td>39</td>\n",
              "      <td>28</td>\n",
              "      <td>2016</td>\n",
              "      <td>27914064</td>\n",
              "      <td>58033.62062</td>\n",
              "      <td>140</td>\n",
              "      <td>176</td>\n",
              "      <td>83600842.01</td>\n",
              "      <td>13.4</td>\n",
              "    </tr>\n",
              "  </tbody>\n",
              "</table>\n",
              "</div>"
            ],
            "text/plain": [
              "   State  industry_type  ...  USDA_energy_invest_$  %Renewables\n",
              "0     39             48  ...           83600842.01         13.4\n",
              "1     39             33  ...           83600842.01         13.4\n",
              "2     39             46  ...           83600842.01         13.4\n",
              "3     39             29  ...           83600842.01         13.4\n",
              "4     39             28  ...           83600842.01         13.4\n",
              "\n",
              "[5 rows x 9 columns]"
            ]
          },
          "metadata": {},
          "execution_count": 5
        }
      ]
    },
    {
      "cell_type": "code",
      "metadata": {
        "id": "c15c39ec",
        "colab": {
          "base_uri": "https://localhost:8080/"
        },
        "outputId": "17494c05-194a-4237-c37e-d9eae884f676"
      },
      "source": [
        "# Define the target set.\n",
        "y = df_emissions[\"total_direct_emissions\"].ravel()\n",
        "y = y.astype('int')\n",
        "y[:5]"
      ],
      "id": "c15c39ec",
      "execution_count": 6,
      "outputs": [
        {
          "output_type": "execute_result",
          "data": {
            "text/plain": [
              "array([221014,  31773,  22362, 265377,  55858])"
            ]
          },
          "metadata": {},
          "execution_count": 6
        }
      ]
    },
    {
      "cell_type": "code",
      "metadata": {
        "id": "b494cd59"
      },
      "source": [
        "# Split into training and testing\n",
        "random_state_num = 0\n",
        "X_train, X_test, y_train, y_test = train_test_split(X, y, test_size=0.7, random_state=random_state_num)"
      ],
      "id": "b494cd59",
      "execution_count": 7,
      "outputs": []
    },
    {
      "cell_type": "code",
      "metadata": {
        "id": "748570b1"
      },
      "source": [
        "# Create a StandardScaler instance\n",
        "scaler = StandardScaler()"
      ],
      "id": "748570b1",
      "execution_count": 8,
      "outputs": []
    },
    {
      "cell_type": "code",
      "metadata": {
        "id": "63df4491"
      },
      "source": [
        "# Fitting the Standard Scaler with the training data.\n",
        "X_scaler = scaler.fit(X_train)"
      ],
      "id": "63df4491",
      "execution_count": 9,
      "outputs": []
    },
    {
      "cell_type": "code",
      "metadata": {
        "id": "880df3ca"
      },
      "source": [
        "# Scale the data\n",
        "X_train_scaled = X_scaler.transform(X_train)\n",
        "X_test_scaled = X_scaler.transform(X_test)"
      ],
      "id": "880df3ca",
      "execution_count": 10,
      "outputs": []
    },
    {
      "cell_type": "markdown",
      "metadata": {
        "id": "6495dbe2"
      },
      "source": [
        "### Random Forest Classifier"
      ],
      "id": "6495dbe2"
    },
    {
      "cell_type": "code",
      "metadata": {
        "id": "325fa179"
      },
      "source": [
        "# create a random forest instance using the random forest classifier\n",
        "rf_model = RandomForestClassifier(n_estimators=10, random_state=random_state_num)"
      ],
      "id": "325fa179",
      "execution_count": 11,
      "outputs": []
    },
    {
      "cell_type": "code",
      "metadata": {
        "id": "a9c79003"
      },
      "source": [
        "# Fitting the model\n",
        "rf_model = rf_model.fit(X_train_scaled, y_train)"
      ],
      "id": "a9c79003",
      "execution_count": 12,
      "outputs": []
    },
    {
      "cell_type": "code",
      "metadata": {
        "id": "6b630376"
      },
      "source": [
        "# Making predictions using the testing data.\n",
        "predictions = rf_model.predict(X_test_scaled)"
      ],
      "id": "6b630376",
      "execution_count": 13,
      "outputs": []
    },
    {
      "cell_type": "code",
      "metadata": {
        "id": "ca57c2a8"
      },
      "source": [
        "# # Calculating the confusion matrix.\n",
        "# cm = confusion_matrix(y_test, predictions)\n",
        "\n",
        "# # Create a DataFrame from the confusion matrix.\n",
        "# cm_df = pd.DataFrame(cm, index=[\"Actual 0\", \"Actual 1\"], columns=[\"Predicted 0\", \"Predicted 1\"])\n",
        "\n",
        "# cm_df"
      ],
      "id": "ca57c2a8",
      "execution_count": 15,
      "outputs": []
    },
    {
      "cell_type": "code",
      "metadata": {
        "id": "cd25e451"
      },
      "source": [
        "# Calculating the accuracy score.\n",
        "acc_score = accuracy_score(y_test, predictions)"
      ],
      "id": "cd25e451",
      "execution_count": 16,
      "outputs": []
    },
    {
      "cell_type": "code",
      "metadata": {
        "id": "785f7bc8",
        "colab": {
          "base_uri": "https://localhost:8080/"
        },
        "outputId": "6655288e-af6c-48c1-a5d7-ac9664f0a49f"
      },
      "source": [
        "# Displaying results\n",
        "# print(\"Confusion Matrix\")\n",
        "# display(cm_df)\n",
        "print(f\"Accuracy Score : {acc_score}\")\n",
        "# print(\"Classification Report\")\n",
        "# print(classification_report(y_test, predictions))"
      ],
      "id": "785f7bc8",
      "execution_count": 19,
      "outputs": [
        {
          "output_type": "stream",
          "name": "stdout",
          "text": [
            "Accuracy Score : 4.6044755502348285e-05\n"
          ]
        }
      ]
    },
    {
      "cell_type": "code",
      "metadata": {
        "id": "df82c847",
        "colab": {
          "base_uri": "https://localhost:8080/"
        },
        "outputId": "ab4a482a-0ddd-44dc-b525-20e949a7ceac"
      },
      "source": [
        "# Calculate feature importance in the Random Forest model.\n",
        "importances = rf_model.feature_importances_\n",
        "importances"
      ],
      "id": "df82c847",
      "execution_count": 20,
      "outputs": [
        {
          "output_type": "execute_result",
          "data": {
            "text/plain": [
              "array([0.02638116, 0.6894076 , 0.02625574, 0.04568744, 0.04747942,\n",
              "       0.0351983 , 0.04638054, 0.04370352, 0.03950627])"
            ]
          },
          "metadata": {},
          "execution_count": 20
        }
      ]
    },
    {
      "cell_type": "code",
      "metadata": {
        "id": "6e722e23",
        "colab": {
          "base_uri": "https://localhost:8080/"
        },
        "outputId": "0e105f66-041b-49fe-a1ca-4b051fdbac6f"
      },
      "source": [
        "# We can sort the features by their importance.\n",
        "sorted(zip(rf_model.feature_importances_, X.columns), reverse=True)"
      ],
      "id": "6e722e23",
      "execution_count": 21,
      "outputs": [
        {
          "output_type": "execute_result",
          "data": {
            "text/plain": [
              "[(0.6894076022602069, 'industry_type'),\n",
              " (0.0474794181234497, 'state_gdp_per_capita'),\n",
              " (0.046380542227896504, 'USDA_energy_invest_unit'),\n",
              " (0.04568744175648686, 'state_population'),\n",
              " (0.04370352399373131, 'USDA_energy_invest_$'),\n",
              " (0.03950627467059371, '%Renewables'),\n",
              " (0.03519830437747642, 'state_policies_incentives'),\n",
              " (0.026381157075151644, 'State'),\n",
              " (0.026255735515006963, 'year')]"
            ]
          },
          "metadata": {},
          "execution_count": 21
        }
      ]
    },
    {
      "cell_type": "markdown",
      "metadata": {
        "id": "2e338ec3"
      },
      "source": [
        "### Logistic Regression Model"
      ],
      "id": "2e338ec3"
    },
    {
      "cell_type": "code",
      "metadata": {
        "id": "e69eb6c8",
        "colab": {
          "base_uri": "https://localhost:8080/"
        },
        "outputId": "020ca1dc-a70a-478a-b735-fc17de7ba91f"
      },
      "source": [
        "from sklearn.linear_model import LogisticRegression\n",
        "classifier = LogisticRegression()\n",
        "classifier"
      ],
      "id": "e69eb6c8",
      "execution_count": 22,
      "outputs": [
        {
          "output_type": "execute_result",
          "data": {
            "text/plain": [
              "LogisticRegression()"
            ]
          },
          "metadata": {},
          "execution_count": 22
        }
      ]
    },
    {
      "cell_type": "code",
      "metadata": {
        "id": "50dc8e38",
        "colab": {
          "base_uri": "https://localhost:8080/"
        },
        "outputId": "c135fdb9-2f7a-4d1b-889e-aab2fb24be9b"
      },
      "source": [
        "classifier.fit(X_train_scaled, y_train)"
      ],
      "id": "50dc8e38",
      "execution_count": 23,
      "outputs": [
        {
          "output_type": "execute_result",
          "data": {
            "text/plain": [
              "LogisticRegression()"
            ]
          },
          "metadata": {},
          "execution_count": 23
        }
      ]
    },
    {
      "cell_type": "code",
      "metadata": {
        "id": "3384f184",
        "colab": {
          "base_uri": "https://localhost:8080/"
        },
        "outputId": "ce968da5-38c7-40ed-dc2a-0f119497c552"
      },
      "source": [
        "print(f\"Training Data Score: {classifier.score(X_train_scaled, y_train)}\")\n",
        "print(f\"Testing Data Score: {classifier.score(X_test_scaled, y_test)}\")"
      ],
      "id": "3384f184",
      "execution_count": 24,
      "outputs": [
        {
          "output_type": "stream",
          "name": "stdout",
          "text": [
            "Training Data Score: 0.022563661759965617\n",
            "Testing Data Score: 0.0023482825306197623\n"
          ]
        }
      ]
    }
  ]
}