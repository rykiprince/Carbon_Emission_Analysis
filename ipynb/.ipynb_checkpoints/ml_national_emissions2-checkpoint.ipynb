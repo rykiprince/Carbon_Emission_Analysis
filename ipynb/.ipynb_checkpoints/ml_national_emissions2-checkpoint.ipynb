{
 "cells": [
  {
   "cell_type": "code",
   "execution_count": 55,
   "metadata": {
    "id": "d555573b",
    "scrolled": true
   },
   "outputs": [],
   "source": [
    "# Initial imports.\n",
    "import pandas as pd\n",
    "import os\n",
    "import numpy as np\n",
    "from sklearn.ensemble import RandomForestRegressor\n",
    "from sklearn.preprocessing import StandardScaler\n",
    "from sklearn.model_selection import train_test_split\n",
    "from sklearn.metrics import confusion_matrix, accuracy_score, classification_report\n",
    "from sklearn.preprocessing import LabelEncoder"
   ]
  },
  {
   "cell_type": "code",
   "execution_count": 2,
   "metadata": {
    "colab": {
     "base_uri": "https://localhost:8080/"
    },
    "id": "qtzgeZAjegnA",
    "outputId": "b8157413-2db8-4fc6-bbf4-c8bde5d47f2b"
   },
   "outputs": [
    {
     "name": "stdout",
     "output_type": "stream",
     "text": [
      "Mounted at /content/drive\n"
     ]
    }
   ],
   "source": [
    "from google.colab import drive\n",
    "drive.mount('/content/drive')"
   ]
  },
  {
   "cell_type": "code",
   "execution_count": 88,
   "metadata": {
    "colab": {
     "base_uri": "https://localhost:8080/",
     "height": 206
    },
    "id": "7a10200e",
    "outputId": "10b82ad5-6169-45fb-f848-dd79e08eeb1b"
   },
   "outputs": [
    {
     "data": {
      "text/html": [
       "<div>\n",
       "<style scoped>\n",
       "    .dataframe tbody tr th:only-of-type {\n",
       "        vertical-align: middle;\n",
       "    }\n",
       "\n",
       "    .dataframe tbody tr th {\n",
       "        vertical-align: top;\n",
       "    }\n",
       "\n",
       "    .dataframe thead th {\n",
       "        text-align: right;\n",
       "    }\n",
       "</style>\n",
       "<table border=\"1\" class=\"dataframe\">\n",
       "  <thead>\n",
       "    <tr style=\"text-align: right;\">\n",
       "      <th></th>\n",
       "      <th>Unnamed: 0</th>\n",
       "      <th>Facility Id</th>\n",
       "      <th>State</th>\n",
       "      <th>industry_type</th>\n",
       "      <th>total_direct_emissions</th>\n",
       "      <th>state_population</th>\n",
       "      <th>state_gdp_per_capita</th>\n",
       "      <th>state_policies_incentives</th>\n",
       "      <th>USDA_energy_invest_unit</th>\n",
       "      <th>USDA_energy_invest_$</th>\n",
       "      <th>%Renewables</th>\n",
       "    </tr>\n",
       "  </thead>\n",
       "  <tbody>\n",
       "    <tr>\n",
       "      <th>0</th>\n",
       "      <td>0</td>\n",
       "      <td>1004377</td>\n",
       "      <td>TX</td>\n",
       "      <td>Waste Management and Remediation Services</td>\n",
       "      <td>221014.750</td>\n",
       "      <td>27914064</td>\n",
       "      <td>58033.62062</td>\n",
       "      <td>140</td>\n",
       "      <td>176</td>\n",
       "      <td>83600842.01</td>\n",
       "      <td>13.4</td>\n",
       "    </tr>\n",
       "    <tr>\n",
       "      <th>1</th>\n",
       "      <td>1</td>\n",
       "      <td>1003188</td>\n",
       "      <td>TX</td>\n",
       "      <td>Plastics and Rubber Products Manufacturing</td>\n",
       "      <td>31773.480</td>\n",
       "      <td>27914064</td>\n",
       "      <td>58033.62062</td>\n",
       "      <td>140</td>\n",
       "      <td>176</td>\n",
       "      <td>83600842.01</td>\n",
       "      <td>13.4</td>\n",
       "    </tr>\n",
       "    <tr>\n",
       "      <th>2</th>\n",
       "      <td>2</td>\n",
       "      <td>1007733</td>\n",
       "      <td>TX</td>\n",
       "      <td>Utilities</td>\n",
       "      <td>22362.816</td>\n",
       "      <td>27914064</td>\n",
       "      <td>58033.62062</td>\n",
       "      <td>140</td>\n",
       "      <td>176</td>\n",
       "      <td>83600842.01</td>\n",
       "      <td>13.4</td>\n",
       "    </tr>\n",
       "    <tr>\n",
       "      <th>3</th>\n",
       "      <td>3</td>\n",
       "      <td>1002685</td>\n",
       "      <td>TX</td>\n",
       "      <td>Oil and Gas Extraction</td>\n",
       "      <td>265377.770</td>\n",
       "      <td>27914064</td>\n",
       "      <td>58033.62062</td>\n",
       "      <td>140</td>\n",
       "      <td>176</td>\n",
       "      <td>83600842.01</td>\n",
       "      <td>13.4</td>\n",
       "    </tr>\n",
       "    <tr>\n",
       "      <th>4</th>\n",
       "      <td>4</td>\n",
       "      <td>1005601</td>\n",
       "      <td>TX</td>\n",
       "      <td>Nonmetallic Mineral Product Manufacturing</td>\n",
       "      <td>55858.240</td>\n",
       "      <td>27914064</td>\n",
       "      <td>58033.62062</td>\n",
       "      <td>140</td>\n",
       "      <td>176</td>\n",
       "      <td>83600842.01</td>\n",
       "      <td>13.4</td>\n",
       "    </tr>\n",
       "  </tbody>\n",
       "</table>\n",
       "</div>"
      ],
      "text/plain": [
       "   Unnamed: 0  Facility Id  ... USDA_energy_invest_$ %Renewables\n",
       "0           0      1004377  ...          83600842.01        13.4\n",
       "1           1      1003188  ...          83600842.01        13.4\n",
       "2           2      1007733  ...          83600842.01        13.4\n",
       "3           3      1002685  ...          83600842.01        13.4\n",
       "4           4      1005601  ...          83600842.01        13.4\n",
       "\n",
       "[5 rows x 11 columns]"
      ]
     },
     "execution_count": 88,
     "metadata": {},
     "output_type": "execute_result"
    }
   ],
   "source": [
    "# Loading data\n",
    "file_path = os.path.join(\"/content/drive/MyDrive/ml_database2.csv\")\n",
    "df_emissions = pd.read_csv(file_path)\n",
    "df_emissions.head()"
   ]
  },
  {
   "cell_type": "code",
   "execution_count": 89,
   "metadata": {
    "colab": {
     "base_uri": "https://localhost:8080/"
    },
    "id": "eec52a57",
    "outputId": "d1396b5c-daf2-4799-882f-0b9caf614f0e"
   },
   "outputs": [
    {
     "data": {
      "text/plain": [
       "Unnamed: 0                     int64\n",
       "Facility Id                    int64\n",
       "State                         object\n",
       "industry_type                 object\n",
       "total_direct_emissions       float64\n",
       "state_population               int64\n",
       "state_gdp_per_capita         float64\n",
       "state_policies_incentives      int64\n",
       "USDA_energy_invest_unit        int64\n",
       "USDA_energy_invest_$         float64\n",
       "%Renewables                  float64\n",
       "dtype: object"
      ]
     },
     "execution_count": 89,
     "metadata": {},
     "output_type": "execute_result"
    }
   ],
   "source": [
    "df_emissions.dtypes"
   ]
  },
  {
   "cell_type": "code",
   "execution_count": 104,
   "metadata": {
    "colab": {
     "base_uri": "https://localhost:8080/",
     "height": 206
    },
    "id": "151e35c2",
    "outputId": "7f24c68a-7e8a-4d2b-e3a0-63fc35e2e5f6"
   },
   "outputs": [
    {
     "data": {
      "text/html": [
       "<div>\n",
       "<style scoped>\n",
       "    .dataframe tbody tr th:only-of-type {\n",
       "        vertical-align: middle;\n",
       "    }\n",
       "\n",
       "    .dataframe tbody tr th {\n",
       "        vertical-align: top;\n",
       "    }\n",
       "\n",
       "    .dataframe thead th {\n",
       "        text-align: right;\n",
       "    }\n",
       "</style>\n",
       "<table border=\"1\" class=\"dataframe\">\n",
       "  <thead>\n",
       "    <tr style=\"text-align: right;\">\n",
       "      <th></th>\n",
       "      <th>industry_type</th>\n",
       "      <th>state_gdp_per_capita</th>\n",
       "      <th>state_policies_incentives</th>\n",
       "      <th>USDA_energy_invest_unit</th>\n",
       "      <th>USDA_energy_invest_$</th>\n",
       "      <th>%Renewables</th>\n",
       "    </tr>\n",
       "  </thead>\n",
       "  <tbody>\n",
       "    <tr>\n",
       "      <th>0</th>\n",
       "      <td>41</td>\n",
       "      <td>58033.62062</td>\n",
       "      <td>140</td>\n",
       "      <td>176</td>\n",
       "      <td>83600842.01</td>\n",
       "      <td>13.4</td>\n",
       "    </tr>\n",
       "    <tr>\n",
       "      <th>1</th>\n",
       "      <td>30</td>\n",
       "      <td>58033.62062</td>\n",
       "      <td>140</td>\n",
       "      <td>176</td>\n",
       "      <td>83600842.01</td>\n",
       "      <td>13.4</td>\n",
       "    </tr>\n",
       "    <tr>\n",
       "      <th>2</th>\n",
       "      <td>39</td>\n",
       "      <td>58033.62062</td>\n",
       "      <td>140</td>\n",
       "      <td>176</td>\n",
       "      <td>83600842.01</td>\n",
       "      <td>13.4</td>\n",
       "    </tr>\n",
       "    <tr>\n",
       "      <th>3</th>\n",
       "      <td>26</td>\n",
       "      <td>58033.62062</td>\n",
       "      <td>140</td>\n",
       "      <td>176</td>\n",
       "      <td>83600842.01</td>\n",
       "      <td>13.4</td>\n",
       "    </tr>\n",
       "    <tr>\n",
       "      <th>4</th>\n",
       "      <td>25</td>\n",
       "      <td>58033.62062</td>\n",
       "      <td>140</td>\n",
       "      <td>176</td>\n",
       "      <td>83600842.01</td>\n",
       "      <td>13.4</td>\n",
       "    </tr>\n",
       "  </tbody>\n",
       "</table>\n",
       "</div>"
      ],
      "text/plain": [
       "   industry_type  state_gdp_per_capita  ...  USDA_energy_invest_$  %Renewables\n",
       "0             41           58033.62062  ...           83600842.01         13.4\n",
       "1             30           58033.62062  ...           83600842.01         13.4\n",
       "2             39           58033.62062  ...           83600842.01         13.4\n",
       "3             26           58033.62062  ...           83600842.01         13.4\n",
       "4             25           58033.62062  ...           83600842.01         13.4\n",
       "\n",
       "[5 rows x 6 columns]"
      ]
     },
     "execution_count": 104,
     "metadata": {},
     "output_type": "execute_result"
    }
   ],
   "source": [
    "# Define the features set.\n",
    "le = LabelEncoder()\n",
    "X = df_emissions.copy()\n",
    "X = X.drop(columns=[\"total_direct_emissions\",\"Facility Id\", \"Unnamed: 0\",\"State\",\"state_population\"])\n",
    "# X[\"State\"] = le.fit_transform(X[\"State\"])\n",
    "X[\"industry_type\"] = le.fit_transform(X[\"industry_type\"])\n",
    "X.head()"
   ]
  },
  {
   "cell_type": "code",
   "execution_count": 105,
   "metadata": {
    "colab": {
     "base_uri": "https://localhost:8080/"
    },
    "id": "c15c39ec",
    "outputId": "3b005bbf-b9d1-4366-a3ea-9746a91225e4"
   },
   "outputs": [
    {
     "data": {
      "text/plain": [
       "array([221014,  31773,  22362, 265377,  55858])"
      ]
     },
     "execution_count": 105,
     "metadata": {},
     "output_type": "execute_result"
    }
   ],
   "source": [
    "# Define the target set.\n",
    "y = df_emissions[\"total_direct_emissions\"].ravel()\n",
    "y = y.astype('int')\n",
    "y[:5]"
   ]
  },
  {
   "cell_type": "code",
   "execution_count": 106,
   "metadata": {
    "id": "b494cd59"
   },
   "outputs": [],
   "source": [
    "# Split into training and testing\n",
    "random_state_num = 0\n",
    "X_train, X_test, y_train, y_test = train_test_split(X, y, test_size=0.7, random_state=random_state_num)"
   ]
  },
  {
   "cell_type": "code",
   "execution_count": 107,
   "metadata": {
    "id": "748570b1"
   },
   "outputs": [],
   "source": [
    "# Create a StandardScaler instance\n",
    "scaler = StandardScaler()"
   ]
  },
  {
   "cell_type": "code",
   "execution_count": 108,
   "metadata": {
    "id": "63df4491"
   },
   "outputs": [],
   "source": [
    "# Fitting the Standard Scaler with the training data.\n",
    "X_scaler = scaler.fit(X_train)"
   ]
  },
  {
   "cell_type": "code",
   "execution_count": 109,
   "metadata": {
    "id": "880df3ca"
   },
   "outputs": [],
   "source": [
    "# Scale the data\n",
    "X_train_scaled = X_scaler.transform(X_train)\n",
    "X_test_scaled = X_scaler.transform(X_test)"
   ]
  },
  {
   "cell_type": "markdown",
   "metadata": {
    "id": "6495dbe2"
   },
   "source": [
    "### Random Forest Regressor"
   ]
  },
  {
   "cell_type": "code",
   "execution_count": 110,
   "metadata": {
    "id": "325fa179"
   },
   "outputs": [],
   "source": [
    "# create a random forest instance using the random forest classifier\n",
    "rf_model = RandomForestRegressor(n_estimators=10, random_state=random_state_num)"
   ]
  },
  {
   "cell_type": "code",
   "execution_count": 111,
   "metadata": {
    "id": "a9c79003"
   },
   "outputs": [],
   "source": [
    "# Fitting the model\n",
    "rf_model = rf_model.fit(X_train_scaled, y_train)"
   ]
  },
  {
   "cell_type": "code",
   "execution_count": 112,
   "metadata": {
    "colab": {
     "base_uri": "https://localhost:8080/"
    },
    "id": "6b630376",
    "outputId": "3ccec830-2b4a-4b65-9bb3-fad978be462f"
   },
   "outputs": [
    {
     "data": {
      "text/plain": [
       "array([1123468.60541574,  139392.51786064, 1321206.43958874, ...,\n",
       "       1571152.750525  ,  570250.38964513,  521179.00083333])"
      ]
     },
     "execution_count": 112,
     "metadata": {},
     "output_type": "execute_result"
    }
   ],
   "source": [
    "# Making predictions using the testing data.\n",
    "predictions = rf_model.predict(X_test_scaled)\n",
    "predictions"
   ]
  },
  {
   "cell_type": "code",
   "execution_count": 113,
   "metadata": {
    "colab": {
     "base_uri": "https://localhost:8080/"
    },
    "id": "cd25e451",
    "outputId": "2f6022cc-19fa-4b62-ec7b-d29e8f20e75c"
   },
   "outputs": [
    {
     "name": "stdout",
     "output_type": "stream",
     "text": [
      "Training Data Score: 0.24794803307283386\n",
      "Testing Data Score: 0.10075163288690658\n"
     ]
    }
   ],
   "source": [
    "# Calculating the accuracy score.\n",
    "# acc_score = accuracy_score(y_test, predictions)\n",
    "print(f\"Training Data Score: {rf_model.score(X_train_scaled, y_train)}\")\n",
    "print(f\"Testing Data Score: {rf_model.score(X_test_scaled, y_test)}\")"
   ]
  },
  {
   "cell_type": "code",
   "execution_count": 114,
   "metadata": {
    "colab": {
     "base_uri": "https://localhost:8080/"
    },
    "id": "df82c847",
    "outputId": "df31ec4c-1e0d-4c3c-85be-1019cda2f6fb"
   },
   "outputs": [
    {
     "data": {
      "text/plain": [
       "array([0.50756342, 0.22449421, 0.05049421, 0.09332376, 0.08304148,\n",
       "       0.04108292])"
      ]
     },
     "execution_count": 114,
     "metadata": {},
     "output_type": "execute_result"
    }
   ],
   "source": [
    "# Calculate feature importance in the Random Forest model.\n",
    "importances = rf_model.feature_importances_\n",
    "importances"
   ]
  },
  {
   "cell_type": "code",
   "execution_count": 115,
   "metadata": {
    "colab": {
     "base_uri": "https://localhost:8080/"
    },
    "id": "6e722e23",
    "outputId": "ca882c5a-9078-4358-cd69-074b127f2faf"
   },
   "outputs": [
    {
     "data": {
      "text/plain": [
       "[(0.5075634155084585, 'industry_type'),\n",
       " (0.224494210981882, 'state_gdp_per_capita'),\n",
       " (0.09332376168386801, 'USDA_energy_invest_unit'),\n",
       " (0.08304147651322805, 'USDA_energy_invest_$'),\n",
       " (0.05049421463534417, 'state_policies_incentives'),\n",
       " (0.04108292067721926, '%Renewables')]"
      ]
     },
     "execution_count": 115,
     "metadata": {},
     "output_type": "execute_result"
    }
   ],
   "source": [
    "# We can sort the features by their importance.\n",
    "sorted(zip(rf_model.feature_importances_, X.columns), reverse=True)"
   ]
  }
 ],
 "metadata": {
  "colab": {
   "collapsed_sections": [],
   "name": "ml_national_emissions.ipynb",
   "provenance": []
  },
  "kernelspec": {
   "display_name": "Python 3",
   "language": "python",
   "name": "python3"
  },
  "language_info": {
   "codemirror_mode": {
    "name": "ipython",
    "version": 3
   },
   "file_extension": ".py",
   "mimetype": "text/x-python",
   "name": "python",
   "nbconvert_exporter": "python",
   "pygments_lexer": "ipython3",
   "version": "3.8.5"
  }
 },
 "nbformat": 4,
 "nbformat_minor": 5
}
