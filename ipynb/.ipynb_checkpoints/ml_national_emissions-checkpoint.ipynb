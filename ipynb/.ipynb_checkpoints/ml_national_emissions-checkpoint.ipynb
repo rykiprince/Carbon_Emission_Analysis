{
 "cells": [
  {
   "cell_type": "code",
   "execution_count": 1,
   "metadata": {
    "id": "d555573b",
    "scrolled": true
   },
   "outputs": [],
   "source": [
    "# Initial imports.\n",
    "import pandas as pd\n",
    "import os\n",
    "import numpy as np\n",
    "from sklearn.ensemble import RandomForestClassifier\n",
    "from sklearn.preprocessing import StandardScaler\n",
    "from sklearn.model_selection import train_test_split\n",
    "from sklearn.metrics import confusion_matrix, accuracy_score, classification_report\n",
    "from sklearn.preprocessing import LabelEncoder"
   ]
  },
  {
   "cell_type": "code",
   "execution_count": 2,
   "metadata": {
    "colab": {
     "base_uri": "https://localhost:8080/"
    },
    "id": "qtzgeZAjegnA",
    "outputId": "87159b2c-4957-41de-f105-bee2807bfe8d"
   },
   "outputs": [
    {
     "name": "stdout",
     "output_type": "stream",
     "text": [
      "Drive already mounted at /content/drive; to attempt to forcibly remount, call drive.mount(\"/content/drive\", force_remount=True).\n"
     ]
    }
   ],
   "source": [
    "from google.colab import drive\n",
    "drive.mount('/content/drive')"
   ]
  },
  {
   "cell_type": "code",
   "execution_count": 3,
   "metadata": {
    "colab": {
     "base_uri": "https://localhost:8080/",
     "height": 382
    },
    "id": "7a10200e",
    "outputId": "306de886-653c-4467-860b-c6e980ebd139"
   },
   "outputs": [
    {
     "data": {
      "text/html": [
       "<div>\n",
       "<style scoped>\n",
       "    .dataframe tbody tr th:only-of-type {\n",
       "        vertical-align: middle;\n",
       "    }\n",
       "\n",
       "    .dataframe tbody tr th {\n",
       "        vertical-align: top;\n",
       "    }\n",
       "\n",
       "    .dataframe thead th {\n",
       "        text-align: right;\n",
       "    }\n",
       "</style>\n",
       "<table border=\"1\" class=\"dataframe\">\n",
       "  <thead>\n",
       "    <tr style=\"text-align: right;\">\n",
       "      <th></th>\n",
       "      <th>Facility Id</th>\n",
       "      <th>State</th>\n",
       "      <th>industry_type</th>\n",
       "      <th>year</th>\n",
       "      <th>total_direct_emissions</th>\n",
       "      <th>state_population</th>\n",
       "      <th>state_gdp_per_capita</th>\n",
       "      <th>state_policies_incentives</th>\n",
       "      <th>USDA_energy_invest_unit</th>\n",
       "      <th>USDA_energy_invest_$</th>\n",
       "      <th>%Renewables</th>\n",
       "    </tr>\n",
       "  </thead>\n",
       "  <tbody>\n",
       "    <tr>\n",
       "      <th>0</th>\n",
       "      <td>1004377</td>\n",
       "      <td>TX</td>\n",
       "      <td>Waste Management and Remediation Services</td>\n",
       "      <td>2016</td>\n",
       "      <td>221014.750</td>\n",
       "      <td>27914064</td>\n",
       "      <td>58033.62062</td>\n",
       "      <td>140</td>\n",
       "      <td>176</td>\n",
       "      <td>83600842.01</td>\n",
       "      <td>13.4</td>\n",
       "    </tr>\n",
       "    <tr>\n",
       "      <th>1</th>\n",
       "      <td>1003188</td>\n",
       "      <td>TX</td>\n",
       "      <td>Plastics and Rubber Products Manufacturing</td>\n",
       "      <td>2016</td>\n",
       "      <td>31773.480</td>\n",
       "      <td>27914064</td>\n",
       "      <td>58033.62062</td>\n",
       "      <td>140</td>\n",
       "      <td>176</td>\n",
       "      <td>83600842.01</td>\n",
       "      <td>13.4</td>\n",
       "    </tr>\n",
       "    <tr>\n",
       "      <th>2</th>\n",
       "      <td>1007733</td>\n",
       "      <td>TX</td>\n",
       "      <td>Utilities</td>\n",
       "      <td>2016</td>\n",
       "      <td>22362.816</td>\n",
       "      <td>27914064</td>\n",
       "      <td>58033.62062</td>\n",
       "      <td>140</td>\n",
       "      <td>176</td>\n",
       "      <td>83600842.01</td>\n",
       "      <td>13.4</td>\n",
       "    </tr>\n",
       "    <tr>\n",
       "      <th>3</th>\n",
       "      <td>1002685</td>\n",
       "      <td>TX</td>\n",
       "      <td>Oil and Gas Extraction</td>\n",
       "      <td>2016</td>\n",
       "      <td>265377.770</td>\n",
       "      <td>27914064</td>\n",
       "      <td>58033.62062</td>\n",
       "      <td>140</td>\n",
       "      <td>176</td>\n",
       "      <td>83600842.01</td>\n",
       "      <td>13.4</td>\n",
       "    </tr>\n",
       "    <tr>\n",
       "      <th>4</th>\n",
       "      <td>1005601</td>\n",
       "      <td>TX</td>\n",
       "      <td>Nonmetallic Mineral Product Manufacturing</td>\n",
       "      <td>2016</td>\n",
       "      <td>55858.240</td>\n",
       "      <td>27914064</td>\n",
       "      <td>58033.62062</td>\n",
       "      <td>140</td>\n",
       "      <td>176</td>\n",
       "      <td>83600842.01</td>\n",
       "      <td>13.4</td>\n",
       "    </tr>\n",
       "  </tbody>\n",
       "</table>\n",
       "</div>"
      ],
      "text/plain": [
       "   Facility Id State  ... USDA_energy_invest_$  %Renewables\n",
       "0      1004377    TX  ...          83600842.01         13.4\n",
       "1      1003188    TX  ...          83600842.01         13.4\n",
       "2      1007733    TX  ...          83600842.01         13.4\n",
       "3      1002685    TX  ...          83600842.01         13.4\n",
       "4      1005601    TX  ...          83600842.01         13.4\n",
       "\n",
       "[5 rows x 11 columns]"
      ]
     },
     "execution_count": 3,
     "metadata": {},
     "output_type": "execute_result"
    }
   ],
   "source": [
    "# Loading data\n",
    "file_path = os.path.join(\"/content/drive/MyDrive/ml_database.csv\")\n",
    "df_emissions = pd.read_csv(file_path)\n",
    "df_emissions.head()"
   ]
  },
  {
   "cell_type": "code",
   "execution_count": 4,
   "metadata": {
    "colab": {
     "base_uri": "https://localhost:8080/"
    },
    "id": "eec52a57",
    "outputId": "bd04d948-7b01-4194-c8e6-5fc1a7f87029"
   },
   "outputs": [
    {
     "data": {
      "text/plain": [
       "Facility Id                    int64\n",
       "State                         object\n",
       "industry_type                 object\n",
       "year                           int64\n",
       "total_direct_emissions       float64\n",
       "state_population               int64\n",
       "state_gdp_per_capita         float64\n",
       "state_policies_incentives      int64\n",
       "USDA_energy_invest_unit        int64\n",
       "USDA_energy_invest_$         float64\n",
       "%Renewables                  float64\n",
       "dtype: object"
      ]
     },
     "execution_count": 4,
     "metadata": {},
     "output_type": "execute_result"
    }
   ],
   "source": [
    "df_emissions.dtypes"
   ]
  },
  {
   "cell_type": "code",
   "execution_count": 5,
   "metadata": {
    "colab": {
     "base_uri": "https://localhost:8080/",
     "height": 206
    },
    "id": "151e35c2",
    "outputId": "1b285a8f-98ca-4cb3-f9f8-47930a6f174e"
   },
   "outputs": [
    {
     "data": {
      "text/html": [
       "<div>\n",
       "<style scoped>\n",
       "    .dataframe tbody tr th:only-of-type {\n",
       "        vertical-align: middle;\n",
       "    }\n",
       "\n",
       "    .dataframe tbody tr th {\n",
       "        vertical-align: top;\n",
       "    }\n",
       "\n",
       "    .dataframe thead th {\n",
       "        text-align: right;\n",
       "    }\n",
       "</style>\n",
       "<table border=\"1\" class=\"dataframe\">\n",
       "  <thead>\n",
       "    <tr style=\"text-align: right;\">\n",
       "      <th></th>\n",
       "      <th>State</th>\n",
       "      <th>industry_type</th>\n",
       "      <th>year</th>\n",
       "      <th>state_population</th>\n",
       "      <th>state_gdp_per_capita</th>\n",
       "      <th>state_policies_incentives</th>\n",
       "      <th>USDA_energy_invest_unit</th>\n",
       "      <th>USDA_energy_invest_$</th>\n",
       "      <th>%Renewables</th>\n",
       "    </tr>\n",
       "  </thead>\n",
       "  <tbody>\n",
       "    <tr>\n",
       "      <th>0</th>\n",
       "      <td>39</td>\n",
       "      <td>48</td>\n",
       "      <td>2016</td>\n",
       "      <td>27914064</td>\n",
       "      <td>58033.62062</td>\n",
       "      <td>140</td>\n",
       "      <td>176</td>\n",
       "      <td>83600842.01</td>\n",
       "      <td>13.4</td>\n",
       "    </tr>\n",
       "    <tr>\n",
       "      <th>1</th>\n",
       "      <td>39</td>\n",
       "      <td>33</td>\n",
       "      <td>2016</td>\n",
       "      <td>27914064</td>\n",
       "      <td>58033.62062</td>\n",
       "      <td>140</td>\n",
       "      <td>176</td>\n",
       "      <td>83600842.01</td>\n",
       "      <td>13.4</td>\n",
       "    </tr>\n",
       "    <tr>\n",
       "      <th>2</th>\n",
       "      <td>39</td>\n",
       "      <td>46</td>\n",
       "      <td>2016</td>\n",
       "      <td>27914064</td>\n",
       "      <td>58033.62062</td>\n",
       "      <td>140</td>\n",
       "      <td>176</td>\n",
       "      <td>83600842.01</td>\n",
       "      <td>13.4</td>\n",
       "    </tr>\n",
       "    <tr>\n",
       "      <th>3</th>\n",
       "      <td>39</td>\n",
       "      <td>29</td>\n",
       "      <td>2016</td>\n",
       "      <td>27914064</td>\n",
       "      <td>58033.62062</td>\n",
       "      <td>140</td>\n",
       "      <td>176</td>\n",
       "      <td>83600842.01</td>\n",
       "      <td>13.4</td>\n",
       "    </tr>\n",
       "    <tr>\n",
       "      <th>4</th>\n",
       "      <td>39</td>\n",
       "      <td>28</td>\n",
       "      <td>2016</td>\n",
       "      <td>27914064</td>\n",
       "      <td>58033.62062</td>\n",
       "      <td>140</td>\n",
       "      <td>176</td>\n",
       "      <td>83600842.01</td>\n",
       "      <td>13.4</td>\n",
       "    </tr>\n",
       "  </tbody>\n",
       "</table>\n",
       "</div>"
      ],
      "text/plain": [
       "   State  industry_type  ...  USDA_energy_invest_$  %Renewables\n",
       "0     39             48  ...           83600842.01         13.4\n",
       "1     39             33  ...           83600842.01         13.4\n",
       "2     39             46  ...           83600842.01         13.4\n",
       "3     39             29  ...           83600842.01         13.4\n",
       "4     39             28  ...           83600842.01         13.4\n",
       "\n",
       "[5 rows x 9 columns]"
      ]
     },
     "execution_count": 5,
     "metadata": {},
     "output_type": "execute_result"
    }
   ],
   "source": [
    "# Define the features set.\n",
    "le = LabelEncoder()\n",
    "X = df_emissions.copy()\n",
    "X[\"State\"] = le.fit_transform(X[\"State\"])\n",
    "X[\"industry_type\"] = le.fit_transform(X[\"industry_type\"])\n",
    "X = X.drop(columns=[\"total_direct_emissions\",\"Facility Id\"])\n",
    "X.head()"
   ]
  },
  {
   "cell_type": "code",
   "execution_count": 6,
   "metadata": {
    "colab": {
     "base_uri": "https://localhost:8080/"
    },
    "id": "c15c39ec",
    "outputId": "17494c05-194a-4237-c37e-d9eae884f676"
   },
   "outputs": [
    {
     "data": {
      "text/plain": [
       "array([221014,  31773,  22362, 265377,  55858])"
      ]
     },
     "execution_count": 6,
     "metadata": {},
     "output_type": "execute_result"
    }
   ],
   "source": [
    "# Define the target set.\n",
    "y = df_emissions[\"total_direct_emissions\"].ravel()\n",
    "y = y.astype('int')\n",
    "y[:5]"
   ]
  },
  {
   "cell_type": "code",
   "execution_count": 7,
   "metadata": {
    "id": "b494cd59"
   },
   "outputs": [],
   "source": [
    "# Split into training and testing\n",
    "random_state_num = 0\n",
    "X_train, X_test, y_train, y_test = train_test_split(X, y, test_size=0.7, random_state=random_state_num)"
   ]
  },
  {
   "cell_type": "code",
   "execution_count": 8,
   "metadata": {
    "id": "748570b1"
   },
   "outputs": [],
   "source": [
    "# Create a StandardScaler instance\n",
    "scaler = StandardScaler()"
   ]
  },
  {
   "cell_type": "code",
   "execution_count": 9,
   "metadata": {
    "id": "63df4491"
   },
   "outputs": [],
   "source": [
    "# Fitting the Standard Scaler with the training data.\n",
    "X_scaler = scaler.fit(X_train)"
   ]
  },
  {
   "cell_type": "code",
   "execution_count": 10,
   "metadata": {
    "id": "880df3ca"
   },
   "outputs": [],
   "source": [
    "# Scale the data\n",
    "X_train_scaled = X_scaler.transform(X_train)\n",
    "X_test_scaled = X_scaler.transform(X_test)"
   ]
  },
  {
   "cell_type": "markdown",
   "metadata": {
    "id": "6495dbe2"
   },
   "source": [
    "### Random Forest Classifier"
   ]
  },
  {
   "cell_type": "code",
   "execution_count": 11,
   "metadata": {
    "id": "325fa179"
   },
   "outputs": [],
   "source": [
    "# create a random forest instance using the random forest classifier\n",
    "rf_model = RandomForestClassifier(n_estimators=10, random_state=random_state_num)"
   ]
  },
  {
   "cell_type": "code",
   "execution_count": 12,
   "metadata": {
    "id": "a9c79003"
   },
   "outputs": [],
   "source": [
    "# Fitting the model\n",
    "rf_model = rf_model.fit(X_train_scaled, y_train)"
   ]
  },
  {
   "cell_type": "code",
   "execution_count": 13,
   "metadata": {
    "id": "6b630376"
   },
   "outputs": [],
   "source": [
    "# Making predictions using the testing data.\n",
    "predictions = rf_model.predict(X_test_scaled)"
   ]
  },
  {
   "cell_type": "code",
   "execution_count": 15,
   "metadata": {
    "id": "ca57c2a8"
   },
   "outputs": [],
   "source": [
    "# # Calculating the confusion matrix.\n",
    "# cm = confusion_matrix(y_test, predictions)\n",
    "\n",
    "# # Create a DataFrame from the confusion matrix.\n",
    "# cm_df = pd.DataFrame(cm, index=[\"Actual 0\", \"Actual 1\"], columns=[\"Predicted 0\", \"Predicted 1\"])\n",
    "\n",
    "# cm_df"
   ]
  },
  {
   "cell_type": "code",
   "execution_count": 16,
   "metadata": {
    "id": "cd25e451"
   },
   "outputs": [],
   "source": [
    "# Calculating the accuracy score.\n",
    "acc_score = accuracy_score(y_test, predictions)"
   ]
  },
  {
   "cell_type": "code",
   "execution_count": 19,
   "metadata": {
    "colab": {
     "base_uri": "https://localhost:8080/"
    },
    "id": "785f7bc8",
    "outputId": "6655288e-af6c-48c1-a5d7-ac9664f0a49f"
   },
   "outputs": [
    {
     "name": "stdout",
     "output_type": "stream",
     "text": [
      "Accuracy Score : 4.6044755502348285e-05\n"
     ]
    }
   ],
   "source": [
    "# Displaying results\n",
    "# print(\"Confusion Matrix\")\n",
    "# display(cm_df)\n",
    "print(f\"Accuracy Score : {acc_score}\")\n",
    "# print(\"Classification Report\")\n",
    "# print(classification_report(y_test, predictions))"
   ]
  },
  {
   "cell_type": "code",
   "execution_count": 20,
   "metadata": {
    "colab": {
     "base_uri": "https://localhost:8080/"
    },
    "id": "df82c847",
    "outputId": "ab4a482a-0ddd-44dc-b525-20e949a7ceac"
   },
   "outputs": [
    {
     "data": {
      "text/plain": [
       "array([0.02638116, 0.6894076 , 0.02625574, 0.04568744, 0.04747942,\n",
       "       0.0351983 , 0.04638054, 0.04370352, 0.03950627])"
      ]
     },
     "execution_count": 20,
     "metadata": {},
     "output_type": "execute_result"
    }
   ],
   "source": [
    "# Calculate feature importance in the Random Forest model.\n",
    "importances = rf_model.feature_importances_\n",
    "importances"
   ]
  },
  {
   "cell_type": "code",
   "execution_count": 21,
   "metadata": {
    "colab": {
     "base_uri": "https://localhost:8080/"
    },
    "id": "6e722e23",
    "outputId": "0e105f66-041b-49fe-a1ca-4b051fdbac6f"
   },
   "outputs": [
    {
     "data": {
      "text/plain": [
       "[(0.6894076022602069, 'industry_type'),\n",
       " (0.0474794181234497, 'state_gdp_per_capita'),\n",
       " (0.046380542227896504, 'USDA_energy_invest_unit'),\n",
       " (0.04568744175648686, 'state_population'),\n",
       " (0.04370352399373131, 'USDA_energy_invest_$'),\n",
       " (0.03950627467059371, '%Renewables'),\n",
       " (0.03519830437747642, 'state_policies_incentives'),\n",
       " (0.026381157075151644, 'State'),\n",
       " (0.026255735515006963, 'year')]"
      ]
     },
     "execution_count": 21,
     "metadata": {},
     "output_type": "execute_result"
    }
   ],
   "source": [
    "# We can sort the features by their importance.\n",
    "sorted(zip(rf_model.feature_importances_, X.columns), reverse=True)"
   ]
  },
  {
   "cell_type": "markdown",
   "metadata": {
    "id": "2e338ec3"
   },
   "source": [
    "### Logistic Regression Model"
   ]
  },
  {
   "cell_type": "code",
   "execution_count": 22,
   "metadata": {
    "colab": {
     "base_uri": "https://localhost:8080/"
    },
    "id": "e69eb6c8",
    "outputId": "020ca1dc-a70a-478a-b735-fc17de7ba91f"
   },
   "outputs": [
    {
     "data": {
      "text/plain": [
       "LogisticRegression()"
      ]
     },
     "execution_count": 22,
     "metadata": {},
     "output_type": "execute_result"
    }
   ],
   "source": [
    "from sklearn.linear_model import LogisticRegression\n",
    "classifier = LogisticRegression()\n",
    "classifier"
   ]
  },
  {
   "cell_type": "code",
   "execution_count": 23,
   "metadata": {
    "colab": {
     "base_uri": "https://localhost:8080/"
    },
    "id": "50dc8e38",
    "outputId": "c135fdb9-2f7a-4d1b-889e-aab2fb24be9b"
   },
   "outputs": [
    {
     "data": {
      "text/plain": [
       "LogisticRegression()"
      ]
     },
     "execution_count": 23,
     "metadata": {},
     "output_type": "execute_result"
    }
   ],
   "source": [
    "classifier.fit(X_train_scaled, y_train)"
   ]
  },
  {
   "cell_type": "code",
   "execution_count": 24,
   "metadata": {
    "colab": {
     "base_uri": "https://localhost:8080/"
    },
    "id": "3384f184",
    "outputId": "ce968da5-38c7-40ed-dc2a-0f119497c552"
   },
   "outputs": [
    {
     "name": "stdout",
     "output_type": "stream",
     "text": [
      "Training Data Score: 0.022563661759965617\n",
      "Testing Data Score: 0.0023482825306197623\n"
     ]
    }
   ],
   "source": [
    "print(f\"Training Data Score: {classifier.score(X_train_scaled, y_train)}\")\n",
    "print(f\"Testing Data Score: {classifier.score(X_test_scaled, y_test)}\")"
   ]
  }
 ],
 "metadata": {
  "colab": {
   "collapsed_sections": [],
   "name": "ml_national_emissions.ipynb",
   "provenance": []
  },
  "kernelspec": {
   "display_name": "Python 3",
   "language": "python",
   "name": "python3"
  },
  "language_info": {
   "codemirror_mode": {
    "name": "ipython",
    "version": 3
   },
   "file_extension": ".py",
   "mimetype": "text/x-python",
   "name": "python",
   "nbconvert_exporter": "python",
   "pygments_lexer": "ipython3",
   "version": "3.8.5"
  }
 },
 "nbformat": 4,
 "nbformat_minor": 5
}
